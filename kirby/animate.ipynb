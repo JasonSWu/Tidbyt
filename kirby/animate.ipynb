{
 "cells": [
  {
   "cell_type": "code",
   "execution_count": 2,
   "metadata": {},
   "outputs": [],
   "source": [
    "from PIL import Image\n",
    "\n",
    "def remove_white_pixels(file_path):\n",
    "    # Load the image\n",
    "    image = Image.open(file_path)\n",
    "\n",
    "    # Convert the image to RGBA (to support transparency)\n",
    "    image = image.convert(\"RGBA\")\n",
    "\n",
    "    # Get the data of the image\n",
    "    data = image.getdata()\n",
    "\n",
    "    # Create a new data list, replacing white pixels with transparent pixels\n",
    "    new_data = []\n",
    "    for item in data:\n",
    "        # Check if the pixel is white (255, 255, 255)\n",
    "        if item[:3] == (255, 255, 255):\n",
    "            # Replace white with transparent\n",
    "            new_data.append((255, 255, 255, 0))\n",
    "        else:\n",
    "            new_data.append(item)\n",
    "\n",
    "    # Update image data\n",
    "    image.putdata(new_data)\n",
    "\n",
    "    # Save the image\n",
    "    image.save(file_path)"
   ]
  },
  {
   "cell_type": "code",
   "execution_count": 21,
   "metadata": {},
   "outputs": [],
   "source": [
    "# for frame_num in range (1, 34 + 1):\n",
    "#     remove_white_pixels(f'sparkle_frames/frame{frame_num}.png')"
   ]
  },
  {
   "cell_type": "code",
   "execution_count": 22,
   "metadata": {},
   "outputs": [],
   "source": [
    "# remove_white_pixels(f'kirby_frames/kirby.png')"
   ]
  },
  {
   "cell_type": "code",
   "execution_count": 23,
   "metadata": {},
   "outputs": [],
   "source": [
    "# remove_white_pixels(f'star_frames/star.png')"
   ]
  },
  {
   "cell_type": "code",
   "execution_count": 3,
   "metadata": {},
   "outputs": [],
   "source": [
    "def shift(data, width, padding, wraparound=False):\n",
    "    new_data = []\n",
    "    data = list(data)\n",
    "    for i in range(round(len(data) / width)):\n",
    "        new_data += data[(1 + i*width):((i + 1) * width)]\n",
    "        if wraparound:\n",
    "            new_data.append(data[i * width])\n",
    "        else:\n",
    "            new_data.append(padding)\n",
    "    return new_data\n",
    "\n",
    "def generate_shifted_frames(first_frame_file_path, dimensions, save_path, n_frames, wraparound):\n",
    "    height, width = dimensions\n",
    "    assert (height == 32 and width == 64)\n",
    "    image = Image.open(first_frame_file_path)\n",
    "    image = image.convert(\"RGBA\")\n",
    "    data = image.getdata()\n",
    "    image.save(f'{save_path}/frame1.png')\n",
    "    for i in range(2, n_frames + 1):\n",
    "        data = shift(data, width, padding=(255, 255, 255, 0), wraparound=wraparound)\n",
    "        image.putdata(data)\n",
    "        image.save(f'{save_path}/frame{i}.png')\n",
    "\n",
    "def generate_sparkle_frames(first_frame_file_path, dimensions, save_path, n_frames):\n",
    "    generate_shifted_frames(first_frame_file_path, dimensions, save_path, n_frames, False) #This could be True\n",
    "\n",
    "def generate_night_sky_frames(first_frame_file_path, dimensions, save_path, n_frames):\n",
    "    generate_shifted_frames(first_frame_file_path, dimensions, save_path, n_frames, True)"
   ]
  },
  {
   "cell_type": "code",
   "execution_count": 57,
   "metadata": {},
   "outputs": [],
   "source": [
    "# generate_sparkle_frames('layers/frame1.png', (32, 64), 'sparkle_frames_new',34)"
   ]
  },
  {
   "cell_type": "code",
   "execution_count": 70,
   "metadata": {},
   "outputs": [],
   "source": [
    "# generate_night_sky_frames('layers/night_sky.png', (32, 64), 'sky_frames', 63)"
   ]
  },
  {
   "cell_type": "code",
   "execution_count": 4,
   "metadata": {},
   "outputs": [],
   "source": [
    "def opaque(pixel):\n",
    "    r, g, b, _ = pixel\n",
    "    return (r, g, b, 255)\n",
    "\n",
    "def transparent(pixel):\n",
    "    r, g, b, _ = pixel\n",
    "    return (r, g, b, 0)\n",
    "\n",
    "def layer_images(file_paths_with_processors, show = False):\n",
    "    image = None\n",
    "    for file_path_and_processor in file_paths_with_processors:\n",
    "        file_path = None\n",
    "        processor = lambda x : x\n",
    "        if isinstance(file_path_and_processor, tuple):\n",
    "            file_path, processor = file_path_and_processor\n",
    "        else:\n",
    "            file_path = file_path_and_processor\n",
    "        layer = Image.open(file_path)\n",
    "        layer = layer.convert(\"RGBA\")\n",
    "        layer = processor(layer)\n",
    "        if image is None:\n",
    "            image = layer\n",
    "            continue\n",
    "        layer_data = layer.getdata()\n",
    "\n",
    "        image_data = image.getdata()\n",
    "        new_image = []\n",
    "        for layer_pix, img_pix in zip(layer_data, image_data):\n",
    "            if img_pix[-1] == 0: #current image is transparent at this pixel\n",
    "                new_image.append(layer_pix)\n",
    "            else:\n",
    "                new_image.append(img_pix)\n",
    "\n",
    "        image.putdata(new_image)\n",
    "    if show: \n",
    "        image.show()\n",
    "    return image"
   ]
  },
  {
   "cell_type": "code",
   "execution_count": 5,
   "metadata": {},
   "outputs": [],
   "source": [
    "def process_sparkles(image, dimensions, cutoff):\n",
    "    height, width = dimensions\n",
    "    assert (height == 32 and width == 64)\n",
    "    data = image.getdata()\n",
    "    new_data = []\n",
    "    for i, pixel in enumerate(data):\n",
    "        if i % width > cutoff or pixel[:3] == (0, 0, 0):\n",
    "            new_data.append(transparent(pixel))\n",
    "        else:\n",
    "            new_data.append(pixel)\n",
    "    image.putdata(new_data)\n",
    "    return image\n",
    "    "
   ]
  },
  {
   "cell_type": "code",
   "execution_count": 6,
   "metadata": {},
   "outputs": [],
   "source": [
    "def get_kirby_frames(output_dir=None):\n",
    "    final_frames = []\n",
    "    for sparkle_frame_num in range(1, 34 + 1):\n",
    "        kirby_layers_file_paths = [\n",
    "            'kirby_frames/kirby.png', \n",
    "            'star_frames/star.png', \n",
    "            (\n",
    "                f'sparkle_frames_new/frame{sparkle_frame_num}.png', \n",
    "                lambda image: process_sparkles(image, dimensions=(32, 64), cutoff=28)\n",
    "            )\n",
    "        ]\n",
    "        final_frames.append(layer_images(kirby_layers_file_paths))\n",
    "    if output_dir is not None:\n",
    "        for i, frame in enumerate(final_frames):\n",
    "            frame.save(f'{output_dir}/frame{i+1}.png')\n",
    "    final_frames[0].save(\n",
    "        'output.gif',\n",
    "        save_all=True,\n",
    "        append_images=final_frames[1:],  # Append the rest of the images\n",
    "        duration=100,              # Duration between frames (in milliseconds)\n",
    "        loop=0                     # Loop forever (use 1 for a single loop)\n",
    "    )"
   ]
  },
  {
   "cell_type": "code",
   "execution_count": 68,
   "metadata": {},
   "outputs": [],
   "source": [
    "# get_kirby_frames('kirby_star_sparkles_frames')"
   ]
  },
  {
   "cell_type": "code",
   "execution_count": 7,
   "metadata": {},
   "outputs": [],
   "source": [
    "import base64\n",
    "from PIL import Image\n",
    "from io import BytesIO\n",
    "\n",
    "def base64_encode(file_path):\n",
    "    # Load the image\n",
    "    image = Image.open(file_path)\n",
    "\n",
    "    # Convert the image to bytes\n",
    "    buffered = BytesIO()\n",
    "    image.save(buffered, format=\"PNG\")\n",
    "    image_bytes = buffered.getvalue()\n",
    "\n",
    "    # Encode the image bytes to base64\n",
    "    image_base64 = base64.b64encode(image_bytes).decode('utf-8')\n",
    "\n",
    "    # Print or use the base64 encoded string\n",
    "    return image_base64"
   ]
  },
  {
   "cell_type": "code",
   "execution_count": 59,
   "metadata": {},
   "outputs": [],
   "source": [
    "output_string = \"\"\n",
    "for i in range(1, 34 + 1):\n",
    "    base64_encoding = base64_encode(f'kirby_star_sparkles_frames/frame{i}.png')\n",
    "    output_string += f\"FRAME{2 * i - 1} = base64.decode(\\\"{base64_encoding}\\\")\\n\"\n",
    "    output_string += f\"FRAME{2 * i} = base64.decode(\\\"{base64_encoding}\\\")\\n\"\n",
    "with open('kirby_star_sparkles_frames/frames.star', 'w') as f:\n",
    "    f.write(output_string)"
   ]
  },
  {
   "cell_type": "code",
   "execution_count": null,
   "metadata": {},
   "outputs": [],
   "source": [
    "output_string = \"\"\n",
    "for i in range(1, 34 + 1):\n",
    "    output_string += f'render.Image(src=FRAME{2 * i - 1}),\\n'\n",
    "    output_string += f'render.Image(src=FRAME{2 * i}),\\n'\n",
    "print(output_string)"
   ]
  },
  {
   "cell_type": "code",
   "execution_count": 8,
   "metadata": {},
   "outputs": [],
   "source": [
    "kirby_dot_star = '''\\\n",
    "load(\"http.star\", \"http\")\n",
    "load(\"render.star\", \"render\")\n",
    "load(\"encoding/base64.star\", \"base64\")\n",
    "\n",
    "\\\n",
    "'''\n",
    "\n",
    "n_kirby_frames = 34 #34 is arbitrary. Just where I decided to repeat the sparkles\n",
    "kirby_slow_factor = 2\n",
    "for i in range(1, n_kirby_frames + 1):\n",
    "    base64_encoding = base64_encode(f'kirby_star_sparkles_frames/frame{i}.png')\n",
    "    kirby_dot_star += f\"KIRBY_FRAME{i} = base64.decode(\\\"{base64_encoding}\\\")\\n\"\n",
    "\n",
    "kirby_dot_star += \"\\n\"\n",
    "\n",
    "n_sky_frames = 63 #63 is width - 1\n",
    "sky_slow_factor = 15\n",
    "for i in range(1, n_sky_frames + 1): \n",
    "    base64_encoding = base64_encode(f'sky_frames/frame{i}.png')\n",
    "    kirby_dot_star += f\"SKY_FRAME{i} = base64.decode(\\\"{base64_encoding}\\\")\\n\"\n",
    "\n",
    "\n",
    "kirby_dot_star += '''\\\n",
    "\n",
    "def main():\n",
    "    kirby_animation = render.Animation(\n",
    "        children = [\n",
    "\\\n",
    "'''\n",
    "\n",
    "for i in range(1, n_kirby_frames + 1):\n",
    "    for _ in range(kirby_slow_factor):\n",
    "        kirby_dot_star += f'\\t\\t\\trender.Image(src=KIRBY_FRAME{i}),\\n'\n",
    "\n",
    "kirby_dot_star += '''\\\n",
    "        ]\n",
    "    )\n",
    "\n",
    "    sky_animation = render.Animation(\n",
    "        children = [\n",
    "\\\n",
    "'''\n",
    "\n",
    "for i in range(1, n_sky_frames + 1):\n",
    "    for _ in range(sky_slow_factor):\n",
    "        kirby_dot_star += f'\\t\\t\\trender.Image(src=SKY_FRAME{i}),\\n'\n",
    "\n",
    "kirby_dot_star += '''\\\n",
    "        ]\n",
    "    )\n",
    "\n",
    "    return render.Root(\n",
    "        child = render.Stack(children = [sky_animation, kirby_animation])\n",
    "    )\\\n",
    "'''\n",
    "\n",
    "with open('kirby.star', 'w') as f:\n",
    "    f.write(kirby_dot_star)"
   ]
  },
  {
   "cell_type": "code",
   "execution_count": null,
   "metadata": {},
   "outputs": [],
   "source": []
  }
 ],
 "metadata": {
  "kernelspec": {
   "display_name": "base",
   "language": "python",
   "name": "python3"
  },
  "language_info": {
   "codemirror_mode": {
    "name": "ipython",
    "version": 3
   },
   "file_extension": ".py",
   "mimetype": "text/x-python",
   "name": "python",
   "nbconvert_exporter": "python",
   "pygments_lexer": "ipython3",
   "version": "3.11.7"
  }
 },
 "nbformat": 4,
 "nbformat_minor": 2
}
